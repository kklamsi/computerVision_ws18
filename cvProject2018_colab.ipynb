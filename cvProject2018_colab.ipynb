{
  "nbformat": 4,
  "nbformat_minor": 0,
  "metadata": {
    "colab": {
      "name": "cvProject2018_colab.ipynb",
      "version": "0.3.2",
      "provenance": [],
      "collapsed_sections": []
    },
    "kernelspec": {
      "name": "python3",
      "display_name": "Python 3"
    },
    "accelerator": "GPU"
  },
  "cells": [
    {
      "metadata": {
        "id": "FCabnfz9pwF1",
        "colab_type": "code",
        "colab": {}
      },
      "cell_type": "code",
      "source": [
        "!apt update -qq;\n",
        "!wget https://developer.nvidia.com/compute/cuda/8.0/Prod2/local_installers/cuda-repo-ubuntu1604-8-0-local-ga2_8.0.61-1_amd64-deb;\n",
        "!dpkg -i cuda-repo-ubuntu1604-8-0-local-ga2_8.0.61-1_amd64-deb;\n",
        "!apt-key add /var/cuda-repo-8-0-local-ga2/7fa2af80.pub;\n",
        "!apt-get update -qq;\n",
        "!apt-get install cuda gcc-5 g++-5 -y -qq;\n",
        "!ln -s /usr/bin/gcc-5 /usr/local/cuda/bin/gcc;\n",
        "!ln -s /usr/bin/g++-5 /usr/local/cuda/bin/g++;\n",
        "!apt install cuda-8.0;\n"
      ],
      "execution_count": 0,
      "outputs": []
    },
    {
      "metadata": {
        "id": "ZbqlCaELu9_-",
        "colab_type": "code",
        "colab": {
          "base_uri": "https://localhost:8080/",
          "height": 90
        },
        "outputId": "7accae72-4093-45a9-909a-9bdfc9ac1f6b"
      },
      "cell_type": "code",
      "source": [
        "!/usr/local/cuda/bin/nvcc --version"
      ],
      "execution_count": 2,
      "outputs": [
        {
          "output_type": "stream",
          "text": [
            "nvcc: NVIDIA (R) Cuda compiler driver\n",
            "Copyright (c) 2005-2016 NVIDIA Corporation\n",
            "Built on Tue_Jan_10_13:22:03_CST_2017\n",
            "Cuda compilation tools, release 8.0, V8.0.61\n"
          ],
          "name": "stdout"
        }
      ]
    },
    {
      "metadata": {
        "id": "ZouuwIrcrmcg",
        "colab_type": "code",
        "colab": {
          "base_uri": "https://localhost:8080/",
          "height": 55
        },
        "outputId": "91edc6bc-8c51-477c-b8f9-a7caaba91faa"
      },
      "cell_type": "code",
      "source": [
        "# http://pytorch.org/\n",
        "from os.path import exists\n",
        "from wheel.pep425tags import get_abbr_impl, get_impl_ver, get_abi_tag\n",
        "platform = '{}{}-{}'.format(get_abbr_impl(), get_impl_ver(), get_abi_tag())\n",
        "cuda_output = !ldconfig -p|grep cudart.so|sed -e 's/.*\\.\\([0-9]*\\)\\.\\([0-9]*\\)$/cu\\1\\2/'\n",
        "accelerator = cuda_output[0] if exists('/dev/nvidia0') else 'cpu'\n",
        "\n",
        "!pip install -q http://download.pytorch.org/whl/{accelerator}/torch-0.4.1-{platform}-linux_x86_64.whl torchvision\n"
      ],
      "execution_count": 5,
      "outputs": [
        {
          "output_type": "stream",
          "text": [
            "tcmalloc: large alloc 1073750016 bytes == 0x585e0000 @  0x7f0398ee02a4 0x591a07 0x5b5d56 0x502e9a 0x506859 0x502209 0x502f3d 0x506859 0x504c28 0x502540 0x502f3d 0x506859 0x504c28 0x502540 0x502f3d 0x506859 0x504c28 0x502540 0x502f3d 0x507641 0x502209 0x502f3d 0x506859 0x504c28 0x502540 0x502f3d 0x507641 0x504c28 0x502540 0x502f3d 0x507641\n"
          ],
          "name": "stdout"
        }
      ]
    },
    {
      "metadata": {
        "id": "JbtXhXHrvPPB",
        "colab_type": "code",
        "colab": {}
      },
      "cell_type": "code",
      "source": [
        "import torch\n",
        "\n",
        "import torch.nn as nn\n",
        "import torch.nn.functional as F\n",
        "import torch.optim as optim\n",
        "import math\n",
        "\n",
        "from torchvision import datasets, transforms\n",
        "from torch.autograd import Variable"
      ],
      "execution_count": 0,
      "outputs": []
    },
    {
      "metadata": {
        "id": "N1we7ud1r1TQ",
        "colab_type": "code",
        "colab": {
          "base_uri": "https://localhost:8080/",
          "height": 127
        },
        "outputId": "04912e1e-c264-4e4f-b7a1-aa7611f998e0"
      },
      "cell_type": "code",
      "source": [
        "kwargs = {}\n",
        "train_data = torch.utils.data.DataLoader(\n",
        "    datasets.MNIST('data', train=True, download=True,\n",
        "                    transform=transforms.Compose([transforms.ToTensor(),\n",
        "                    transforms.Normalize((.1307,),(.3081,))])),\n",
        "batch_size=64, shuffle=True, **kwargs)\n",
        "    \n",
        "test_data = torch.utils.data.DataLoader(\n",
        "    datasets.MNIST('data', train=False, \n",
        "                    transform=transforms.Compose([transforms.ToTensor(),\n",
        "                    transforms.Normalize((.1307,),(.3081,))])),\n",
        "batch_size=64, shuffle=True, **kwargs)"
      ],
      "execution_count": 7,
      "outputs": [
        {
          "output_type": "stream",
          "text": [
            "Downloading http://yann.lecun.com/exdb/mnist/train-images-idx3-ubyte.gz\n",
            "Downloading http://yann.lecun.com/exdb/mnist/train-labels-idx1-ubyte.gz\n",
            "Downloading http://yann.lecun.com/exdb/mnist/t10k-images-idx3-ubyte.gz\n",
            "Downloading http://yann.lecun.com/exdb/mnist/t10k-labels-idx1-ubyte.gz\n",
            "Processing...\n",
            "Done!\n"
          ],
          "name": "stdout"
        }
      ]
    },
    {
      "metadata": {
        "id": "QI17JtPSr9dN",
        "colab_type": "text"
      },
      "cell_type": "markdown",
      "source": [
        "#ResNet implemenation"
      ]
    },
    {
      "metadata": {
        "id": "DdK5y8NpsAlF",
        "colab_type": "code",
        "colab": {}
      },
      "cell_type": "code",
      "source": [
        "def conv3x3(in_planes, out_planes, stride=1):\n",
        "    \"\"\"3x3 convolution with padding\"\"\"\n",
        "    return nn.Conv2d(in_planes,\n",
        "                     out_planes,\n",
        "                     kernel_size=3,\n",
        "                     stride=stride,\n",
        "                     padding=1,\n",
        "                     bias=False)\n",
        "\n",
        "def conv1x1(in_planes, out_planes, stride=1):\n",
        "    \"\"\"1x1 convolution\"\"\"\n",
        "    return nn.Conv2d(in_planes,\n",
        "                     out_planes,\n",
        "                     kernel_size = 1,\n",
        "                     stride = stride,\n",
        "                     bias=False)"
      ],
      "execution_count": 0,
      "outputs": []
    },
    {
      "metadata": {
        "id": "WtX2VkvFsEHM",
        "colab_type": "code",
        "colab": {}
      },
      "cell_type": "code",
      "source": [
        "class BasicBlock(nn.Module):\n",
        "    expansion = 1\n",
        "    \n",
        "    def __init__(self, inplanes, planes, stride=1, downsample=None):\n",
        "        super(BasicBlock, self).__init__()\n",
        "        \n",
        "        self.conv1 = conv3x3(inplanes, planes, stride)\n",
        "        self.bn1 = nn.BatchNorm2d(planes)\n",
        "        self.relu = nn.ReLU(inplace=True)\n",
        "        self.conv2 = conv3x3(planes, planes)\n",
        "        self.bn2 = nn.BatchNorm2d(planes)\n",
        "        self.downsample = downsample\n",
        "        self.stride = stride\n",
        "        \n",
        "        \n",
        "    def forward(self, x):\n",
        "        residual = x # save x\n",
        "        \n",
        "        # conv -> bn -> relu\n",
        "        out = self.conv1(x)\n",
        "        out = self.bn1(out)\n",
        "        out = self.relu(out)\n",
        "        out = self.conv2(out)\n",
        "        out = self.bn2(out)\n",
        "        \n",
        "        if self.downsample is not None:\n",
        "            residual = self.downsample(x)\n",
        "        \n",
        "        # x + F(x) - this realizes the shortcut conn.\n",
        "        out += residual\n",
        "        out = self.relu(out) # final relu\n",
        "        \n",
        "        return out"
      ],
      "execution_count": 0,
      "outputs": []
    },
    {
      "metadata": {
        "id": "qgDPDvvwsMTB",
        "colab_type": "code",
        "colab": {}
      },
      "cell_type": "code",
      "source": [
        "class Bottleneck(nn.Module):\n",
        "    \"\"\"\n",
        "    The expansion factor controls the number of output\n",
        "    channels of the last 1x1 convolution layer.\n",
        "    \"\"\"\n",
        "    expansion = 4\n",
        "    \n",
        "    def __init__(self, inplanes, planes, stride = 1, downsample=None):\n",
        "        super(Bottleneck, self).__init__()\n",
        "        \n",
        "        self.conv1 = conv1x1(inplanes, planes)\n",
        "        self.bn1 = nn.BatchNorm2d(planes)\n",
        "        self.conv2 = conv3x3(planes, planes, stride)\n",
        "        self.bn2 = nn.BatchNorm2d(planes)\n",
        "        self.conv3 = conv1x1(planes, planes * self.expansion)\n",
        "        self.bn3 = nn.BatchNorm2d(planes*self.expansion)\n",
        "        self.relu = nn.ReLU(inplace=True)\n",
        "        self.downsample = downsample\n",
        "        self.stride = stride\n",
        "        \n",
        "    def forward(self, x):\n",
        "        residual = x\n",
        "    \n",
        "        out = self.conv1(x)\n",
        "        out = self.bn1(out)\n",
        "        out = self.relu(out)\n",
        "        \n",
        "        out = self.conv2(out)\n",
        "        out = self.bn2(out)\n",
        "        out = self.relu(out)\n",
        "        \n",
        "        out = self.conv3(out)\n",
        "        out = self.bn3(out)\n",
        "        \n",
        "        if self.downsample is not None:\n",
        "            residual = self.downsample(x)\n",
        "            \n",
        "        out += residual\n",
        "        out = self.relu(out)\n",
        "        \n",
        "        return out"
      ],
      "execution_count": 0,
      "outputs": []
    },
    {
      "metadata": {
        "id": "x6ImPIqysQ5h",
        "colab_type": "code",
        "colab": {}
      },
      "cell_type": "code",
      "source": [
        "#from torchvision.models import resnet18\n",
        "\n",
        "class ResNet(nn.Module):\n",
        "    \n",
        "    def __init__(self, block, layers, num_classes=10):\n",
        "        self.inplanes = 10\n",
        "        super(ResNet, self).__init__()\n",
        "        self.conv1 = nn.Conv2d(1, 10, kernel_size = 2, stride = 1, padding = 0,\n",
        "                               bias=False)\n",
        "        self.bn1 = nn.BatchNorm2d(10)\n",
        "        self.relu = nn.ReLU(inplace=True)\n",
        "        self.maxpool = nn.MaxPool2d(kernel_size=2, stride=1, padding=0)\n",
        "        self.layer1 = self._make_layer(block, 10, layers[0])\n",
        "        self.layer2 = self._make_layer(block, 20, layers[1], stride=2)\n",
        "        self.layer3 = self._make_layer(block, 40, layers[2], stride=2)\n",
        "        self.layer4 = self._make_layer(block, 80, layers[3], stride=2)\n",
        "        self.avgpool = nn.AvgPool2d(3, stride=1)\n",
        "        self.fc = nn.Linear(320 * block.expansion, num_classes)\n",
        "        \n",
        "        for m in self.modules():\n",
        "            if isinstance(m, nn.Conv2d):\n",
        "                n = m.kernel_size[0] * m.kernel_size[1] * m.out_channels\n",
        "                m.weight.data.normal_(0, math.sqrt(2. / n))\n",
        "            elif isinstance(m, nn.BatchNorm2d):\n",
        "                m.weight.data.fill_(1)\n",
        "                m.bias.data.zero_()\n",
        "\n",
        "    def _make_layer(self, block, planes, blocks, stride=1):\n",
        "        downsample = None\n",
        "        if stride != 1 or self.inplanes != planes * block.expansion:\n",
        "            downsample = nn.Sequential(\n",
        "                nn.Conv2d(self.inplanes, planes * block.expansion,\n",
        "                          kernel_size=1, stride=stride, bias=False),\n",
        "                nn.BatchNorm2d(planes * block.expansion),\n",
        "            )\n",
        "\n",
        "        layers = []\n",
        "        layers.append(block(self.inplanes, planes, stride, downsample))\n",
        "        self.inplanes = planes * block.expansion\n",
        "        for i in range(1, blocks):\n",
        "            layers.append(block(self.inplanes, planes))\n",
        "\n",
        "        return nn.Sequential(*layers)\n",
        "\n",
        "    def forward(self, x):\n",
        "        x = self.conv1(x)\n",
        "        x = self.bn1(x)\n",
        "        x = self.relu(x)\n",
        "        x = self.maxpool(x)\n",
        "\n",
        "        x = self.layer1(x)\n",
        "        x = self.layer2(x)\n",
        "        x = self.layer3(x)\n",
        "        x = self.layer4(x)\n",
        "\n",
        "        x = self.avgpool(x)\n",
        "        #print(x.size())\n",
        "        #exit()\n",
        "        x = x.view(x.size(0), -1)\n",
        "        x = self.fc(x)      \n",
        "\n",
        "        return x"
      ],
      "execution_count": 0,
      "outputs": []
    },
    {
      "metadata": {
        "id": "_t5dMBKwsYc3",
        "colab_type": "code",
        "colab": {}
      },
      "cell_type": "code",
      "source": [
        "kwargs = {}\n",
        "\n",
        "def resnet18(pretrained=False, **kwargs):\n",
        "    \"\"\"Constructs a ResNet-18 model.\n",
        "\n",
        "    Args:\n",
        "        pretrained (bool): If True, returns a model pre-trained on ImageNet\n",
        "    \"\"\"\n",
        "    model = ResNet(BasicBlock, [2, 2, 2, 2], **kwargs)\n",
        "    if pretrained:\n",
        "        model.load_state_dict(model_zoo.load_url(model_urls['resnet18']))\n",
        "    return model"
      ],
      "execution_count": 0,
      "outputs": []
    },
    {
      "metadata": {
        "id": "RiwjfkwCscHP",
        "colab_type": "text"
      },
      "cell_type": "markdown",
      "source": [
        "#Run the ResNet Model (Error)"
      ]
    },
    {
      "metadata": {
        "id": "52TUdvtJsdPX",
        "colab_type": "code",
        "colab": {
          "base_uri": "https://localhost:8080/",
          "height": 568
        },
        "outputId": "bc9cda8d-e603-4bb6-f455-ba47e909913a"
      },
      "cell_type": "code",
      "source": [
        "device = 'cuda'\n",
        "\n",
        "model = resnet18()\n",
        "\n",
        "opt = torch.optim.SGD(model.parameters(), lr=0.01, momentum=0.9)\n",
        "criterion = nn.CrossEntropyLoss()\n",
        "\n",
        "model.to(device)\n",
        "model.train()\n",
        "\n",
        "n_epochs = 30\n",
        "losses = []\n",
        "\n",
        "for i in range(n_epochs):\n",
        "    e_loss = 0\n",
        "    \n",
        "    for x,y in train_data:\n",
        "        \n",
        "        x = x.to(device)\n",
        "        y = y.to(device)\n",
        "        \n",
        "        model.zero_grad()    # zero gradients\n",
        "        out = model(x)       # forward pass\n",
        "        loss = criterion(out, y)  # compute loss\n",
        "        e_loss += loss.item()     # track loss (optional)\n",
        "        loss.backward()           # compute gradients via backprop.\n",
        "        opt.step()                # take an optimizer step\n",
        "        \n",
        "    if i % 1 == 0:\n",
        "      losses.append(e_loss)\n",
        "\n",
        "    print('Epoch {}: {:.4f}'.format(i, e_loss))"
      ],
      "execution_count": 33,
      "outputs": [
        {
          "output_type": "stream",
          "text": [
            "Epoch 0: 180.6076\n",
            "Epoch 1: 38.7938\n",
            "Epoch 2: 25.7098\n",
            "Epoch 3: 16.5908\n",
            "Epoch 4: 10.7210\n",
            "Epoch 5: 8.0063\n",
            "Epoch 6: 5.4929\n",
            "Epoch 7: 5.2565\n",
            "Epoch 8: 4.1016\n",
            "Epoch 9: 1.8574\n",
            "Epoch 10: 1.2188\n",
            "Epoch 11: 1.2710\n",
            "Epoch 12: 0.5319\n",
            "Epoch 13: 0.4222\n",
            "Epoch 14: 0.3431\n",
            "Epoch 15: 0.2189\n",
            "Epoch 16: 0.2024\n",
            "Epoch 17: 0.1608\n",
            "Epoch 18: 0.1328\n",
            "Epoch 19: 0.1019\n",
            "Epoch 20: 0.1115\n",
            "Epoch 21: 0.0954\n",
            "Epoch 22: 0.0981\n",
            "Epoch 23: 0.0985\n",
            "Epoch 24: 0.0903\n",
            "Epoch 25: 0.0844\n",
            "Epoch 26: 0.0644\n",
            "Epoch 27: 0.0829\n",
            "Epoch 28: 0.0701\n",
            "Epoch 29: 0.0611\n"
          ],
          "name": "stdout"
        }
      ]
    },
    {
      "metadata": {
        "id": "dALdDY94zbDV",
        "colab_type": "code",
        "colab": {}
      },
      "cell_type": "code",
      "source": [
        "import matplotlib.pyplot as plt\n",
        "import numpy as np\n",
        "\n",
        "plt.figure(figsize=(5,3))\n",
        "plt.plot(e_loss)\n",
        "plt.xlabel('Epoch')\n",
        "plt.ylabel('Loss')\n",
        "plt.legend(['Training loss'])"
      ],
      "execution_count": 0,
      "outputs": []
    },
    {
      "metadata": {
        "id": "1SjGS6kWtncz",
        "colab_type": "code",
        "colab": {}
      },
      "cell_type": "code",
      "source": [
        "def evaluate(model, loader):\n",
        "    model.eval()\n",
        "    running_corrects = 0\n",
        "    for x,y in loader:\n",
        "        x = x.to(device)\n",
        "        y = y.to(device)\n",
        "\n",
        "        outputs = model(x)\n",
        "        _, preds = torch.max(outputs, 1)\n",
        "        running_corrects += torch.sum(preds == y.data)\n",
        "\n",
        "    print(\"Accuracy: \", float(running_corrects)/(len(test_data)*64)*100.0)"
      ],
      "execution_count": 0,
      "outputs": []
    },
    {
      "metadata": {
        "id": "SD3gfLFsxC4f",
        "colab_type": "code",
        "colab": {
          "base_uri": "https://localhost:8080/",
          "height": 35
        },
        "outputId": "4b9c7d33-eb4f-4aaa-d974-7296a1fd2dfc"
      },
      "cell_type": "code",
      "source": [
        "evaluate(model, test_data)"
      ],
      "execution_count": 37,
      "outputs": [
        {
          "output_type": "stream",
          "text": [
            "Accuracy:  99.0047770700637\n"
          ],
          "name": "stdout"
        }
      ]
    }
  ]
}